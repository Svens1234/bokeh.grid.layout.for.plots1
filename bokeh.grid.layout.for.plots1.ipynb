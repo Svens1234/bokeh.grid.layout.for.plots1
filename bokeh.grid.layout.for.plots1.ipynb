{
 "cells": [
  {
   "cell_type": "code",
   "execution_count": 1,
   "id": "e92ae5f4",
   "metadata": {},
   "outputs": [],
   "source": [
    "from bokeh.io import output_file, show\n",
    "from bokeh.layouts import gridplot\n",
    "from bokeh.plotting import figure"
   ]
  },
  {
   "cell_type": "code",
   "execution_count": 2,
   "id": "9a801dcc",
   "metadata": {},
   "outputs": [],
   "source": [
    "output_file(\"layout_grid_convenient.html\")"
   ]
  },
  {
   "cell_type": "code",
   "execution_count": 3,
   "id": "b7d0f147",
   "metadata": {},
   "outputs": [],
   "source": [
    "x = list(range(11))\n",
    "y0 = x\n",
    "y1 = [10 - i for i in x]\n",
    "y2 = [abs(i - 5) for i in x]"
   ]
  },
  {
   "cell_type": "code",
   "execution_count": 4,
   "id": "85f8642a",
   "metadata": {},
   "outputs": [
    {
     "data": {
      "text/html": [
       "<div style=\"display: table;\"><div style=\"display: table-row;\"><div style=\"display: table-cell;\"><b title=\"bokeh.models.renderers.GlyphRenderer\">GlyphRenderer</b>(</div><div style=\"display: table-cell;\">id&nbsp;=&nbsp;'1111', <span id=\"1114\" style=\"cursor: pointer;\">&hellip;)</span></div></div><div class=\"1113\" style=\"display: none;\"><div style=\"display: table-cell;\"></div><div style=\"display: table-cell;\">coordinates&nbsp;=&nbsp;None,</div></div><div class=\"1113\" style=\"display: none;\"><div style=\"display: table-cell;\"></div><div style=\"display: table-cell;\">data_source&nbsp;=&nbsp;ColumnDataSource(id='1107', ...),</div></div><div class=\"1113\" style=\"display: none;\"><div style=\"display: table-cell;\"></div><div style=\"display: table-cell;\">glyph&nbsp;=&nbsp;Scatter(id='1108', ...),</div></div><div class=\"1113\" style=\"display: none;\"><div style=\"display: table-cell;\"></div><div style=\"display: table-cell;\">group&nbsp;=&nbsp;None,</div></div><div class=\"1113\" style=\"display: none;\"><div style=\"display: table-cell;\"></div><div style=\"display: table-cell;\">hover_glyph&nbsp;=&nbsp;None,</div></div><div class=\"1113\" style=\"display: none;\"><div style=\"display: table-cell;\"></div><div style=\"display: table-cell;\">js_event_callbacks&nbsp;=&nbsp;{},</div></div><div class=\"1113\" style=\"display: none;\"><div style=\"display: table-cell;\"></div><div style=\"display: table-cell;\">js_property_callbacks&nbsp;=&nbsp;{},</div></div><div class=\"1113\" style=\"display: none;\"><div style=\"display: table-cell;\"></div><div style=\"display: table-cell;\">level&nbsp;=&nbsp;'glyph',</div></div><div class=\"1113\" style=\"display: none;\"><div style=\"display: table-cell;\"></div><div style=\"display: table-cell;\">muted&nbsp;=&nbsp;False,</div></div><div class=\"1113\" style=\"display: none;\"><div style=\"display: table-cell;\"></div><div style=\"display: table-cell;\">muted_glyph&nbsp;=&nbsp;Scatter(id='1110', ...),</div></div><div class=\"1113\" style=\"display: none;\"><div style=\"display: table-cell;\"></div><div style=\"display: table-cell;\">name&nbsp;=&nbsp;None,</div></div><div class=\"1113\" style=\"display: none;\"><div style=\"display: table-cell;\"></div><div style=\"display: table-cell;\">nonselection_glyph&nbsp;=&nbsp;Scatter(id='1109', ...),</div></div><div class=\"1113\" style=\"display: none;\"><div style=\"display: table-cell;\"></div><div style=\"display: table-cell;\">selection_glyph&nbsp;=&nbsp;'auto',</div></div><div class=\"1113\" style=\"display: none;\"><div style=\"display: table-cell;\"></div><div style=\"display: table-cell;\">subscribed_events&nbsp;=&nbsp;[],</div></div><div class=\"1113\" style=\"display: none;\"><div style=\"display: table-cell;\"></div><div style=\"display: table-cell;\">syncable&nbsp;=&nbsp;True,</div></div><div class=\"1113\" style=\"display: none;\"><div style=\"display: table-cell;\"></div><div style=\"display: table-cell;\">tags&nbsp;=&nbsp;[],</div></div><div class=\"1113\" style=\"display: none;\"><div style=\"display: table-cell;\"></div><div style=\"display: table-cell;\">view&nbsp;=&nbsp;CDSView(id='1112', ...),</div></div><div class=\"1113\" style=\"display: none;\"><div style=\"display: table-cell;\"></div><div style=\"display: table-cell;\">visible&nbsp;=&nbsp;True,</div></div><div class=\"1113\" style=\"display: none;\"><div style=\"display: table-cell;\"></div><div style=\"display: table-cell;\">x_range_name&nbsp;=&nbsp;'default',</div></div><div class=\"1113\" style=\"display: none;\"><div style=\"display: table-cell;\"></div><div style=\"display: table-cell;\">y_range_name&nbsp;=&nbsp;'default')</div></div></div>\n",
       "<script>\n",
       "(function() {\n",
       "  let expanded = false;\n",
       "  const ellipsis = document.getElementById(\"1114\");\n",
       "  ellipsis.addEventListener(\"click\", function() {\n",
       "    const rows = document.getElementsByClassName(\"1113\");\n",
       "    for (let i = 0; i < rows.length; i++) {\n",
       "      const el = rows[i];\n",
       "      el.style.display = expanded ? \"none\" : \"table-row\";\n",
       "    }\n",
       "    ellipsis.innerHTML = expanded ? \"&hellip;)\" : \"&lsaquo;&lsaquo;&lsaquo;\";\n",
       "    expanded = !expanded;\n",
       "  });\n",
       "})();\n",
       "</script>\n"
      ],
      "text/plain": [
       "GlyphRenderer(id='1111', ...)"
      ]
     },
     "execution_count": 4,
     "metadata": {},
     "output_type": "execute_result"
    }
   ],
   "source": [
    "s1 = figure(background_fill_color=\"#fafafa\")\n",
    "s1.circle(x, y0, size=12, alpha=0.8, color=\"#53777a\")\n",
    "\n",
    "s2 = figure(background_fill_color=\"#fafafa\")\n",
    "s2.triangle(x, y1, size=12, alpha=0.8, color=\"#c02942\")\n",
    "\n",
    "s3 = figure(background_fill_color=\"#fafafa\")\n",
    "s3.square(x, y2, size=12, alpha=0.8, color=\"#d95b43\")"
   ]
  },
  {
   "cell_type": "code",
   "execution_count": 5,
   "id": "11d08e9e",
   "metadata": {},
   "outputs": [],
   "source": [
    "grid = gridplot([s1, s2, s3], ncols=2, width=250, height=250)"
   ]
  },
  {
   "cell_type": "code",
   "execution_count": 6,
   "id": "746f467c",
   "metadata": {},
   "outputs": [],
   "source": [
    "show(grid)"
   ]
  },
  {
   "cell_type": "code",
   "execution_count": null,
   "id": "099013f8",
   "metadata": {},
   "outputs": [],
   "source": []
  }
 ],
 "metadata": {
  "kernelspec": {
   "display_name": "Python 3 (ipykernel)",
   "language": "python",
   "name": "python3"
  },
  "language_info": {
   "codemirror_mode": {
    "name": "ipython",
    "version": 3
   },
   "file_extension": ".py",
   "mimetype": "text/x-python",
   "name": "python",
   "nbconvert_exporter": "python",
   "pygments_lexer": "ipython3",
   "version": "3.8.7"
  }
 },
 "nbformat": 4,
 "nbformat_minor": 5
}
